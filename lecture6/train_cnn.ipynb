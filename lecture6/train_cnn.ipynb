{
  "nbformat": 4,
  "nbformat_minor": 0,
  "metadata": {
    "colab": {
      "name": "train_cnn.ipynb",
      "provenance": [],
      "include_colab_link": true
    },
    "kernelspec": {
      "name": "python3",
      "display_name": "Python 3"
    },
    "accelerator": "GPU"
  },
  "cells": [
    {
      "cell_type": "markdown",
      "metadata": {
        "id": "view-in-github",
        "colab_type": "text"
      },
      "source": [
        "<a href=\"https://colab.research.google.com/github/shoyell/lecture_pytorch/blob/master/lecture6/train_cnn.ipynb\" target=\"_parent\"><img src=\"https://colab.research.google.com/assets/colab-badge.svg\" alt=\"Open In Colab\"/></a>"
      ]
    },
    {
      "cell_type": "markdown",
      "metadata": {
        "id": "Niaz8_W6OX34"
      },
      "source": [
        "# モデルの訓練\n",
        "画像識別アプリで使用する、CNNのモデルを訓練し保存します。  \n",
        "今回は訓練データにCIFAR-10を使用します。  \n"
      ]
    },
    {
      "cell_type": "markdown",
      "metadata": {
        "id": "vsncPqQ-gZJr"
      },
      "source": [
        "## データの前処理\n",
        "CIFAR-10を読み込んで、データ拡張とともにDataLoaderの設定を行います。  "
      ]
    },
    {
      "cell_type": "code",
      "metadata": {
        "id": "7t3NRHjhKyC0",
        "colab": {
          "base_uri": "https://localhost:8080/"
        },
        "outputId": "cfd0ac3e-26ce-48b4-a2af-738b8290bb91"
      },
      "source": [
        "from torchvision.datasets import CIFAR10\n",
        "import torchvision.transforms as transforms\n",
        "from torch.utils.data import DataLoader\n",
        "\n",
        "affine = transforms.RandomAffine([-15, 15], scale=(0.8, 1.2))  # 回転とリサイズ\n",
        "flip = transforms.RandomHorizontalFlip(p=0.5)  # 左右反転\n",
        "normalize = transforms.Normalize((0.0, 0.0, 0.0), (1.0, 1.0, 1.0))  # 平均値を0、標準偏差を1に\n",
        "to_tensor = transforms.ToTensor()\n",
        "\n",
        "transform_train = transforms.Compose([affine, flip, to_tensor, normalize])\n",
        "transform_test = transforms.Compose([to_tensor, normalize])\n",
        "cifar10_train = CIFAR10(\"./data\", train=True, download=True, transform=transform_train)\n",
        "cifar10_test = CIFAR10(\"./data\", train=False, download=True, transform=transform_test)\n",
        "\n",
        "# DataLoaderの設定\n",
        "batch_size = 64\n",
        "train_loader = DataLoader(cifar10_train, batch_size=batch_size, shuffle=True)\n",
        "test_loader = DataLoader(cifar10_test, batch_size=len(cifar10_test), shuffle=False)"
      ],
      "execution_count": 1,
      "outputs": [
        {
          "output_type": "stream",
          "name": "stderr",
          "text": [
            "100%|██████████| 170M/170M [00:03<00:00, 43.1MB/s]\n"
          ]
        }
      ]
    },
    {
      "cell_type": "markdown",
      "metadata": {
        "id": "FalXNYaJPkoE"
      },
      "source": [
        "## モデルの構築\n",
        "`nn.Module`モジュールを継承したクラスとして、CNNのモデルを構築します。   "
      ]
    },
    {
      "cell_type": "code",
      "metadata": {
        "id": "SuqqZmsh_jNK",
        "colab": {
          "base_uri": "https://localhost:8080/"
        },
        "outputId": "d62adf52-6b22-4f37-ba4c-1f87f15a6d31"
      },
      "source": [
        "import torch.nn as nn\n",
        "import torch.nn.functional as F\n",
        "\n",
        "class Net(nn.Module):\n",
        "    def __init__(self):\n",
        "        super().__init__()\n",
        "        self.conv1 = nn.Conv2d(3, 6, 5)  # 畳み込み層:(入力チャンネル数, フィルタ数、フィルタサイズ)\n",
        "        self.pool = nn.MaxPool2d(2, 2)  # プーリング層:（領域のサイズ, ストライド）\n",
        "        self.conv2 = nn.Conv2d(6, 16, 5)\n",
        "        self.fc1 = nn.Linear(16*5*5, 256)  # 全結合層\n",
        "        self.dropout = nn.Dropout(p=0.5)  # ドロップアウト:(p=ドロップアウト率)\n",
        "        self.fc2 = nn.Linear(256, 10)\n",
        "\n",
        "    def forward(self, x):\n",
        "        x = self.pool(F.relu(self.conv1(x)))\n",
        "        x = self.pool(F.relu(self.conv2(x)))\n",
        "        x = x.view(-1, 16*5*5)\n",
        "        x = F.relu(self.fc1(x))\n",
        "        x = self.dropout(x)\n",
        "        x = self.fc2(x)\n",
        "        return x\n",
        "\n",
        "net = Net()\n",
        "net.cuda()  # GPU対応\n",
        "print(net)"
      ],
      "execution_count": 2,
      "outputs": [
        {
          "output_type": "stream",
          "name": "stdout",
          "text": [
            "Net(\n",
            "  (conv1): Conv2d(3, 6, kernel_size=(5, 5), stride=(1, 1))\n",
            "  (pool): MaxPool2d(kernel_size=2, stride=2, padding=0, dilation=1, ceil_mode=False)\n",
            "  (conv2): Conv2d(6, 16, kernel_size=(5, 5), stride=(1, 1))\n",
            "  (fc1): Linear(in_features=400, out_features=256, bias=True)\n",
            "  (dropout): Dropout(p=0.5, inplace=False)\n",
            "  (fc2): Linear(in_features=256, out_features=10, bias=True)\n",
            ")\n"
          ]
        }
      ]
    },
    {
      "cell_type": "markdown",
      "metadata": {
        "id": "qsW5zCKhQE9p"
      },
      "source": [
        "## 学習\n",
        "モデルを訓練します。   \n",
        "学習には時間がかかりますので、編集→ノートブックの設定のハードウェアアクセラレーターでGPUを選択しましょう。\n"
      ]
    },
    {
      "cell_type": "code",
      "metadata": {
        "id": "u6zwN3nArbGC",
        "colab": {
          "base_uri": "https://localhost:8080/"
        },
        "outputId": "a8171f17-ab5a-45ac-cc65-fbfe2f77c509"
      },
      "source": [
        "from torch import optim\n",
        "\n",
        "# 交差エントロピー誤差関数\n",
        "loss_fnc = nn.CrossEntropyLoss()\n",
        "\n",
        "# 最適化アルゴリズム\n",
        "optimizer = optim.Adam(net.parameters())\n",
        "\n",
        "# 損失のログ\n",
        "record_loss_train = []\n",
        "record_loss_test = []\n",
        "\n",
        "# 学習\n",
        "# x_test, t_test = iter(test_loader).next()\n",
        "x_test, t_test = next(iter(test_loader))\n",
        "x_test, t_test = x_test.cuda(), t_test.cuda()\n",
        "for i in range(20):  # 20エポック学習\n",
        "    net.train()  # 訓練モード\n",
        "    loss_train = 0\n",
        "    for j, (x, t) in enumerate(train_loader):  # ミニバッチ（x, t）を取り出す\n",
        "        x, t = x.cuda(), t.cuda()  # GPU対応\n",
        "        y = net(x)\n",
        "        loss = loss_fnc(y, t)\n",
        "        loss_train += loss.item()\n",
        "        optimizer.zero_grad()\n",
        "        loss.backward()\n",
        "        optimizer.step()\n",
        "    loss_train /= j+1\n",
        "    record_loss_train.append(loss_train)\n",
        "\n",
        "    net.eval()  # 評価モード\n",
        "    y_test = net(x_test)\n",
        "    loss_test = loss_fnc(y_test, t_test).item()\n",
        "    record_loss_test.append(loss_test)\n",
        "\n",
        "    if i%1 == 0:\n",
        "        print(\"Epoch:\", i, \"Loss_Train:\", loss_train, \"Loss_Test:\", loss_test)"
      ],
      "execution_count": 5,
      "outputs": [
        {
          "output_type": "stream",
          "name": "stdout",
          "text": [
            "Epoch: 0 Loss_Train: 1.8074552124113683 Loss_Test: 1.559195876121521\n",
            "Epoch: 1 Loss_Train: 1.5645972238782118 Loss_Test: 1.4145050048828125\n",
            "Epoch: 2 Loss_Train: 1.483388557001148 Loss_Test: 1.3736826181411743\n",
            "Epoch: 3 Loss_Train: 1.437390205500376 Loss_Test: 1.2953330278396606\n",
            "Epoch: 4 Loss_Train: 1.4082269128936027 Loss_Test: 1.267806887626648\n",
            "Epoch: 5 Loss_Train: 1.3763981992021546 Loss_Test: 1.229567527770996\n",
            "Epoch: 6 Loss_Train: 1.3641410067563167 Loss_Test: 1.2870978116989136\n",
            "Epoch: 7 Loss_Train: 1.3398704519662101 Loss_Test: 1.1992602348327637\n",
            "Epoch: 8 Loss_Train: 1.319702959655191 Loss_Test: 1.1929619312286377\n",
            "Epoch: 9 Loss_Train: 1.3053389368459696 Loss_Test: 1.1569980382919312\n",
            "Epoch: 10 Loss_Train: 1.286143603074886 Loss_Test: 1.1291604042053223\n",
            "Epoch: 11 Loss_Train: 1.276727690416224 Loss_Test: 1.1602822542190552\n",
            "Epoch: 12 Loss_Train: 1.269459487532106 Loss_Test: 1.1612188816070557\n",
            "Epoch: 13 Loss_Train: 1.2520128433661692 Loss_Test: 1.1160529851913452\n",
            "Epoch: 14 Loss_Train: 1.2421455365007796 Loss_Test: 1.1295102834701538\n",
            "Epoch: 15 Loss_Train: 1.2352673559999832 Loss_Test: 1.0857388973236084\n",
            "Epoch: 16 Loss_Train: 1.2211693712817433 Loss_Test: 1.0982991456985474\n",
            "Epoch: 17 Loss_Train: 1.2204011725952557 Loss_Test: 1.0814725160598755\n",
            "Epoch: 18 Loss_Train: 1.2168013200430614 Loss_Test: 1.0917295217514038\n",
            "Epoch: 19 Loss_Train: 1.202659066756973 Loss_Test: 1.0655611753463745\n"
          ]
        }
      ]
    },
    {
      "cell_type": "markdown",
      "metadata": {
        "id": "rJwwrWTw43rx"
      },
      "source": [
        "## 誤差の推移\n",
        "訓練データ、テストデータで誤差の推移をグラフ表示します。  "
      ]
    },
    {
      "cell_type": "code",
      "metadata": {
        "id": "OaJx4swE45XI",
        "colab": {
          "base_uri": "https://localhost:8080/",
          "height": 449
        },
        "outputId": "f453e04f-5809-46b0-bc55-dc9a3256d540"
      },
      "source": [
        "import matplotlib.pyplot as plt\n",
        "\n",
        "plt.plot(range(len(record_loss_train)), record_loss_train, label=\"Train\")\n",
        "plt.plot(range(len(record_loss_test)), record_loss_test, label=\"Test\")\n",
        "plt.legend()\n",
        "\n",
        "plt.xlabel(\"Epochs\")\n",
        "plt.ylabel(\"Error\")\n",
        "plt.show()"
      ],
      "execution_count": 6,
      "outputs": [
        {
          "output_type": "display_data",
          "data": {
            "text/plain": [
              "<Figure size 640x480 with 1 Axes>"
            ],
            "image/png": "[encoded data removed]"
          },
          "metadata": {}
        }
      ]
    },
    {
      "cell_type": "markdown",
      "metadata": {
        "id": "iMrpac0m4Nct"
      },
      "source": [
        "## 正解率\n",
        "モデルの性能を把握するため、テストデータ使い正解率を測定します。  "
      ]
    },
    {
      "cell_type": "code",
      "metadata": {
        "id": "IRkGCYMM_N35",
        "colab": {
          "base_uri": "https://localhost:8080/"
        },
        "outputId": "3737fd6e-cdc7-41a2-e7cf-f8baaa81477e"
      },
      "source": [
        "correct = 0\n",
        "total = 0\n",
        "net.eval()  # 評価モード\n",
        "for i, (x, t) in enumerate(test_loader):\n",
        "    x, t = x.cuda(), t.cuda()  # GPU対応\n",
        "    y = net(x)\n",
        "    correct += (y.argmax(1) == t).sum().item()\n",
        "    total += len(x)\n",
        "print(\"正解率:\", str(correct/total*100) + \"%\")"
      ],
      "execution_count": 7,
      "outputs": [
        {
          "output_type": "stream",
          "name": "stdout",
          "text": [
            "正解率: 62.519999999999996%\n"
          ]
        }
      ]
    },
    {
      "cell_type": "markdown",
      "metadata": {
        "id": "LrRAJzwD4zpN"
      },
      "source": [
        "## モデルの保存\n",
        "訓練済みモデルのパラメータを保存します。    \n",
        "`state_dict()`によりモデルの各パラメータが取得できるので、これを保存します。"
      ]
    },
    {
      "cell_type": "code",
      "metadata": {
        "id": "Pdy9nPckTDik",
        "colab": {
          "base_uri": "https://localhost:8080/"
        },
        "outputId": "288a9231-24e3-4975-d5c5-688dbcfcc767"
      },
      "source": [
        "import torch\n",
        "\n",
        "# state_dict()の表示\n",
        "for key in net.state_dict():\n",
        "    print(key, \": \", net.state_dict()[key].size())\n",
        "print(net.state_dict()[\"conv1.weight\"][0])  # 　パラメータの一部を表示\n",
        "\n",
        "# 保存\n",
        "torch.save(net.state_dict(), \"model_cnn.pth\")"
      ],
      "execution_count": 8,
      "outputs": [
        {
          "output_type": "stream",
          "name": "stdout",
          "text": [
            "conv1.weight :  torch.Size([6, 3, 5, 5])\n",
            "conv1.bias :  torch.Size([6])\n",
            "conv2.weight :  torch.Size([16, 6, 5, 5])\n",
            "conv2.bias :  torch.Size([16])\n",
            "fc1.weight :  torch.Size([256, 400])\n",
            "fc1.bias :  torch.Size([256])\n",
            "fc2.weight :  torch.Size([10, 256])\n",
            "fc2.bias :  torch.Size([10])\n",
            "tensor([[[-0.1093,  0.0251, -0.0556, -0.0406,  0.0285],\n",
            "         [ 0.0511,  0.0101,  0.1117,  0.0451, -0.0853],\n",
            "         [-0.0969, -0.0499,  0.0126,  0.0700,  0.0392],\n",
            "         [ 0.0218, -0.0942,  0.0735, -0.1363, -0.1062],\n",
            "         [-0.1072,  0.0291, -0.0703, -0.1144, -0.0091]],\n",
            "\n",
            "        [[ 0.0542,  0.0641,  0.0525,  0.0417, -0.0904],\n",
            "         [-0.0147,  0.0286,  0.1203,  0.0402, -0.0634],\n",
            "         [ 0.1292,  0.0446,  0.0658, -0.0378, -0.0131],\n",
            "         [ 0.0576,  0.1004,  0.0208,  0.0954, -0.1151],\n",
            "         [ 0.0254, -0.0483,  0.0155, -0.0978, -0.0406]],\n",
            "\n",
            "        [[-0.1039, -0.0262,  0.1128,  0.1248,  0.0770],\n",
            "         [ 0.0768,  0.1638, -0.0147,  0.1352,  0.1061],\n",
            "         [-0.0287,  0.1337,  0.1303,  0.0474,  0.0442],\n",
            "         [ 0.0147,  0.0831, -0.0210,  0.1118,  0.0177],\n",
            "         [-0.0008,  0.0187, -0.0458,  0.1089,  0.0384]]], device='cuda:0')\n"
          ]
        }
      ]
    },
    {
      "cell_type": "markdown",
      "metadata": {
        "id": "stRWVWyGJwYN"
      },
      "source": [
        "## モデルの読み込み\n",
        "保存したパラメータを読み込み、モデルに設定します。  \n",
        "`torch.load()`で`map_location`にCPUを指定することで、GPUで訓練したモデルをCPUで使用することが可能になります。  \n"
      ]
    },
    {
      "cell_type": "code",
      "metadata": {
        "id": "pfHfzp_fBgHw",
        "colab": {
          "base_uri": "https://localhost:8080/"
        },
        "outputId": "10a752ed-1dbe-4bfa-f52b-c28f68068624"
      },
      "source": [
        "# 読み込み\n",
        "net_loaded = Net()\n",
        "net_loaded.load_state_dict(torch.load(\"model_cnn.pth\", map_location=torch.device(\"cpu\")))  #CPU対応\n",
        "net_loaded.eval()  # 評価モード\n",
        "\n",
        "# state_dict()の表示\n",
        "for key in net_loaded.state_dict():\n",
        "    print(key, \": \", net.state_dict()[key].size())\n",
        "print(net_loaded.state_dict()[\"conv1.weight\"][0])  # 　パラメータの一部を表示"
      ],
      "execution_count": 9,
      "outputs": [
        {
          "output_type": "stream",
          "name": "stdout",
          "text": [
            "conv1.weight :  torch.Size([6, 3, 5, 5])\n",
            "conv1.bias :  torch.Size([6])\n",
            "conv2.weight :  torch.Size([16, 6, 5, 5])\n",
            "conv2.bias :  torch.Size([16])\n",
            "fc1.weight :  torch.Size([256, 400])\n",
            "fc1.bias :  torch.Size([256])\n",
            "fc2.weight :  torch.Size([10, 256])\n",
            "fc2.bias :  torch.Size([10])\n",
            "tensor([[[-0.1093,  0.0251, -0.0556, -0.0406,  0.0285],\n",
            "         [ 0.0511,  0.0101,  0.1117,  0.0451, -0.0853],\n",
            "         [-0.0969, -0.0499,  0.0126,  0.0700,  0.0392],\n",
            "         [ 0.0218, -0.0942,  0.0735, -0.1363, -0.1062],\n",
            "         [-0.1072,  0.0291, -0.0703, -0.1144, -0.0091]],\n",
            "\n",
            "        [[ 0.0542,  0.0641,  0.0525,  0.0417, -0.0904],\n",
            "         [-0.0147,  0.0286,  0.1203,  0.0402, -0.0634],\n",
            "         [ 0.1292,  0.0446,  0.0658, -0.0378, -0.0131],\n",
            "         [ 0.0576,  0.1004,  0.0208,  0.0954, -0.1151],\n",
            "         [ 0.0254, -0.0483,  0.0155, -0.0978, -0.0406]],\n",
            "\n",
            "        [[-0.1039, -0.0262,  0.1128,  0.1248,  0.0770],\n",
            "         [ 0.0768,  0.1638, -0.0147,  0.1352,  0.1061],\n",
            "         [-0.0287,  0.1337,  0.1303,  0.0474,  0.0442],\n",
            "         [ 0.0147,  0.0831, -0.0210,  0.1118,  0.0177],\n",
            "         [-0.0008,  0.0187, -0.0458,  0.1089,  0.0384]]])\n"
          ]
        }
      ]
    },
    {
      "cell_type": "markdown",
      "metadata": {
        "id": "N8hAIcYLJnA1"
      },
      "source": [
        "モデルの各パラメータを保存し、読み込むことができました。"
      ]
    }
  ]
}