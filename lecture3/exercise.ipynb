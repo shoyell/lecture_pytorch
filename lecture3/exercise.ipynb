{
  "nbformat": 4,
  "nbformat_minor": 0,
  "metadata": {
    "colab": {
      "name": "exercise.ipynb",
      "provenance": [],
      "include_colab_link": true
    },
    "kernelspec": {
      "name": "python3",
      "display_name": "Python 3"
    },
    "accelerator": "GPU"
  },
  "cells": [
    {
      "cell_type": "markdown",
      "metadata": {
        "id": "view-in-github",
        "colab_type": "text"
      },
      "source": [
        "<a href=\"https://colab.research.google.com/github/shoyell/lecture_pytorch/blob/master/lecture3/exercise.ipynb\" target=\"_parent\"><img src=\"https://colab.research.google.com/assets/colab-badge.svg\" alt=\"Open In Colab\"/></a>"
      ]
    },
    {
      "cell_type": "markdown",
      "metadata": {
        "id": "Niaz8_W6OX34"
      },
      "source": [
        "# 演習\n",
        "DataLoaderの扱いに慣れていきましょう。  \n",
        "DataLoaderのコードを書いて、データの読み込みとミニバッチ法の実装を行います。\n",
        "\n"
      ]
    },
    {
      "cell_type": "markdown",
      "metadata": {
        "id": "x9Gzbn25XSlF"
      },
      "source": [
        "## データの読み込み\n",
        "以下のセルにコードを追記し、DataLoaderの設定を行いましょう。  \n",
        "以下のセルの`mnist_train`と`mnist_test`に対してDataLoaderを設定します。  "
      ]
    },
    {
      "cell_type": "code",
      "metadata": {
        "id": "81Il03RNAmbS",
        "colab": {
          "base_uri": "https://localhost:8080/"
        },
        "outputId": "6e62cc78-995d-4626-d8cf-9b16141d7698"
      },
      "source": [
        "import torch\n",
        "from torchvision.datasets import MNIST\n",
        "from torchvision import transforms\n",
        "from torch.utils.data import DataLoader\n",
        "\n",
        "# 訓練データを取得\n",
        "mnist_train = MNIST(\"./data\",\n",
        "                    train=True, download=True,\n",
        "                    transform=transforms.ToTensor())\n",
        "# テストデータの取得\n",
        "mnist_test = MNIST(\"./data\",\n",
        "                   train=False, download=True,\n",
        "                   transform=transforms.ToTensor())\n",
        "print(\"訓練データの数:\", len(mnist_train), \"テストデータの数:\", len(mnist_test))\n",
        "\n",
        "# DataLoaderの設定\n",
        "img_size = 28\n",
        "batch_size = 128\n",
        "# ------- 以下にコードを書く -------\n",
        "train_loader = DataLoader(mnist_train,\n",
        "                          batch_size=batch_size,\n",
        "                          shuffle=True)\n",
        "test_loader = DataLoader(mnist_test,\n",
        "                         batch_size=batch_size,\n",
        "                         shuffle=False)\n",
        "\n",
        "\n",
        "\n",
        "# ------- ここまで -------"
      ],
      "execution_count": 1,
      "outputs": [
        {
          "output_type": "stream",
          "name": "stdout",
          "text": [
            "訓練データの数: 60000 テストデータの数: 10000\n"
          ]
        }
      ]
    },
    {
      "cell_type": "markdown",
      "metadata": {
        "id": "FalXNYaJPkoE"
      },
      "source": [
        "## モデルの構築"
      ]
    },
    {
      "cell_type": "code",
      "metadata": {
        "id": "SuqqZmsh_jNK",
        "colab": {
          "base_uri": "https://localhost:8080/"
        },
        "outputId": "91af3ae1-8a8c-445d-b667-e4157ce6e31d"
      },
      "source": [
        "import torch.nn as nn\n",
        "import torch.nn.functional as F\n",
        "\n",
        "# クラス：設計図。データ（属性）と機能（メソッド）をひとまとまりにした「型」の定義\n",
        "class Net(nn.Module): # 基本クラスnn.Moduleを「継承」する。PyTorchが用意した基本的なニューラルネットワークの機能に自分独自の機能を追加していく\n",
        "    def __init__(self): # 初期化メソッドを呼び出す処理で、基本機能を正しく使えるようにする\n",
        "        super().__init__()\n",
        "        self.fc1 = nn.Linear(img_size*img_size, 1024)  # 全結合層。img_size*img_sizeはMNIST画像の総ピクセル数(28×28=784)\n",
        "        self.fc2 = nn.Linear(1024, 512) # 第1隠れ層 → 第2隠れ層 (1024→512ニューロン)\n",
        "        self.fc3 = nn.Linear(512, 10) #第2隠れ層 → 出力層 (512→10ニューロン)。10は数字の種類(0〜9)に対応\n",
        "\n",
        "    def forward(self, x):\n",
        "        x = x.view(-1, img_size*img_size)  # 2次元画像(バッチ×1×28×28)を平坦化\n",
        "        # バッチサイズ×入力の数。結果として(バッチサイズ, 784)の形状になる\n",
        "        # PyTorchのviewメソッドでは、-1を指定すると「他の次元が与えられた時に、テンソルの総要素数を保つために必要な値」を自動計算する。\n",
        "        x = F.relu(self.fc1(x)) #第1隠れ層を通過後、ReLU活性化関数を適用\n",
        "        x = F.relu(self.fc2(x)) #第2隠れ層を通過後、ReLU活性化関数を適用\n",
        "        x = self.fc3(x) #出力層を通過（活性化関数なし）\n",
        "        return x #最終的に各数字クラス(0〜9)の確率スコアを返す\n",
        "\n",
        "net = Net()\n",
        "net.cuda()  # GPU対応\n",
        "print(net)"
      ],
      "execution_count": 2,
      "outputs": [
        {
          "output_type": "stream",
          "name": "stdout",
          "text": [
            "Net(\n",
            "  (fc1): Linear(in_features=784, out_features=1024, bias=True)\n",
            "  (fc2): Linear(in_features=1024, out_features=512, bias=True)\n",
            "  (fc3): Linear(in_features=512, out_features=10, bias=True)\n",
            ")\n"
          ]
        }
      ]
    },
    {
      "cell_type": "markdown",
      "metadata": {
        "id": "qsW5zCKhQE9p"
      },
      "source": [
        "## 学習\n",
        "訓練および検証の箇所にfor文のコードを追記し、DataLoaderを使ったミニバッチ法を実装しましょう。  \n"
      ]
    },
    {
      "cell_type": "code",
      "metadata": {
        "id": "u6zwN3nArbGC",
        "colab": {
          "base_uri": "https://localhost:8080/"
        },
        "outputId": "9b66c122-f8ea-4c7a-ef0a-314690796e93"
      },
      "source": [
        "from torch import optim\n",
        "import time\n",
        "\n",
        "# 交差エントロピー誤差関数\n",
        "loss_fnc = nn.CrossEntropyLoss()\n",
        "\n",
        "# SGD\n",
        "optimizer = optim.SGD(net.parameters(), lr=0.01)\n",
        "\n",
        "# 損失のログ\n",
        "record_loss_train = []\n",
        "record_loss_test = []\n",
        "\n",
        "# 学習\n",
        "for i in range(10):  # 10エポック学習\n",
        "    net.train()  # 訓練モード\n",
        "    loss_train = 0\n",
        "    # バッチごとに学習を回す\n",
        "    for j, (x,t) in enumerate(train_loader):  # ← 左にfor文のコードを追記\n",
        "        x, t = x.cuda(), t.cuda()  # GPU対応。各ミニバッチのデータとラベルをGPUに転送\n",
        "        # xは入力画像、tは正解ラベル、jはバッチ番号（0からスタート）\n",
        "        # 1周目: j=0, x=バッチ1の画像データ, t=バッチ1のラベル\n",
        "        # 2周目: j=1, x=バッチ2の画像データ, t=バッチ2のラベルというような取り出し方をする\n",
        "        y = net(x)\n",
        "        loss = loss_fnc(y, t)\n",
        "        loss_train += loss.item()\n",
        "        optimizer.zero_grad()\n",
        "        loss.backward()\n",
        "        optimizer.step()\n",
        "    loss_train /= j+1\n",
        "    record_loss_train.append(loss_train)\n",
        "\n",
        "    net.eval()  # 評価モード\n",
        "    loss_test = 0\n",
        "    for j, (x,t) in enumerate(test_loader):  # ← 左にfor文のコードを追記\n",
        "        x, t = x.cuda(), t.cuda()\n",
        "        y = net(x)\n",
        "        loss = loss_fnc(y, t)\n",
        "        loss_test += loss.item()\n",
        "    loss_test /= j+1\n",
        "    record_loss_test.append(loss_test)\n",
        "\n",
        "    if i%1 == 0:\n",
        "        print(\"Epoch:\", i, \"Loss_Train:\", loss_train, \"Loss_Test:\", loss_test)"
      ],
      "execution_count": 3,
      "outputs": [
        {
          "output_type": "stream",
          "name": "stdout",
          "text": [
            "Epoch: 0 Loss_Train: 2.0176639160367724 Loss_Test: 1.440936025184921\n",
            "Epoch: 1 Loss_Train: 0.9221386167286302 Loss_Test: 0.6046931060809123\n",
            "Epoch: 2 Loss_Train: 0.525858157733356 Loss_Test: 0.4387414477105382\n",
            "Epoch: 3 Loss_Train: 0.4231802650860378 Loss_Test: 0.3753104325902613\n",
            "Epoch: 4 Loss_Train: 0.37541047920550363 Loss_Test: 0.3424624314508106\n",
            "Epoch: 5 Loss_Train: 0.3466618251063422 Loss_Test: 0.32099197121172013\n",
            "Epoch: 6 Loss_Train: 0.3259045377469012 Loss_Test: 0.30176333918035786\n",
            "Epoch: 7 Loss_Train: 0.3093646891526322 Loss_Test: 0.2894693887969361\n",
            "Epoch: 8 Loss_Train: 0.29571764619111507 Loss_Test: 0.27705727859482737\n",
            "Epoch: 9 Loss_Train: 0.2835428864081531 Loss_Test: 0.26706881191628645\n"
          ]
        }
      ]
    },
    {
      "cell_type": "markdown",
      "metadata": {
        "id": "rJwwrWTw43rx"
      },
      "source": [
        "## 誤差の推移"
      ]
    },
    {
      "cell_type": "code",
      "metadata": {
        "id": "OaJx4swE45XI",
        "colab": {
          "base_uri": "https://localhost:8080/",
          "height": 449
        },
        "outputId": "89fd74a2-72b5-452d-f5c7-5a8ae340f070"
      },
      "source": [
        "import matplotlib.pyplot as plt\n",
        "\n",
        "plt.plot(range(len(record_loss_train)), record_loss_train, label=\"Train\")\n",
        "plt.plot(range(len(record_loss_test)), record_loss_test, label=\"Test\")\n",
        "plt.legend()\n",
        "\n",
        "plt.xlabel(\"Epochs\")\n",
        "plt.ylabel(\"Error\")\n",
        "plt.show()"
      ],
      "execution_count": 4,
      "outputs": [
        {
          "output_type": "display_data",
          "data": {
            "text/plain": [
              "<Figure size 640x480 with 1 Axes>"
            ],
            "image/png": "[encoded data removed]"
          },
          "metadata": {}
        }
      ]
    },
    {
      "cell_type": "markdown",
      "metadata": {
        "id": "iMrpac0m4Nct"
      },
      "source": [
        "## 正解率"
      ]
    },
    {
      "cell_type": "code",
      "metadata": {
        "id": "IRkGCYMM_N35",
        "colab": {
          "base_uri": "https://localhost:8080/"
        },
        "outputId": "2324ae1a-6d7b-4bb4-b291-edc5842bd6d5"
      },
      "source": [
        "correct = 0\n",
        "total = 0\n",
        "for i, (x, t) in enumerate(test_loader):\n",
        "    x, t = x.cuda(), t.cuda()  # GPU対応\n",
        "    x = x.view(-1, img_size*img_size)\n",
        "    y = net(x)\n",
        "    correct += (y.argmax(1) == t).sum().item()\n",
        "    total += len(x)\n",
        "print(\"正解率:\", str(correct/total*100) + \"%\")"
      ],
      "execution_count": 5,
      "outputs": [
        {
          "output_type": "stream",
          "name": "stdout",
          "text": [
            "正解率: 92.36%\n"
          ]
        }
      ]
    },
    {
      "cell_type": "markdown",
      "metadata": {
        "id": "maAJN2wa0l1D"
      },
      "source": [
        "# 解答例\n",
        "以下は、どうしても手がかりがないときのみ参考にしましょう。"
      ]
    },
    {
      "cell_type": "code",
      "metadata": {
        "id": "rQagvzyDmDA5",
        "colab": {
          "base_uri": "https://localhost:8080/"
        },
        "outputId": "4e782e62-25f3-4cbc-df36-33217fa64bc2"
      },
      "source": [
        "import torch\n",
        "from torchvision.datasets import MNIST\n",
        "from torchvision import transforms\n",
        "from torch.utils.data import DataLoader\n",
        "\n",
        "# 訓練データを取得\n",
        "mnist_train = MNIST(\"./data\",\n",
        "                    train=True, download=True,\n",
        "                    transform=transforms.ToTensor())\n",
        "# テストデータの取得\n",
        "mnist_test = MNIST(\"./data\",\n",
        "                   train=False, download=True,\n",
        "                   transform=transforms.ToTensor())\n",
        "print(\"訓練データの数:\", len(mnist_train), \"テストデータの数:\", len(mnist_test))\n",
        "\n",
        "# DataLoaderの設定\n",
        "img_size = 28\n",
        "batch_size = 128\n",
        "# ------- 以下にコードを書く -------\n",
        "train_loader = DataLoader(mnist_train,\n",
        "                          batch_size=batch_size,\n",
        "                          shuffle=True)\n",
        "test_loader = DataLoader(mnist_test,\n",
        "                         batch_size=batch_size,\n",
        "                         shuffle=False)\n",
        "# ------- ここまで -------"
      ],
      "execution_count": 6,
      "outputs": [
        {
          "output_type": "stream",
          "name": "stdout",
          "text": [
            "訓練データの数: 60000 テストデータの数: 10000\n"
          ]
        }
      ]
    },
    {
      "cell_type": "code",
      "metadata": {
        "id": "gYHIvyIijc5S",
        "colab": {
          "base_uri": "https://localhost:8080/"
        },
        "outputId": "2d30290e-0458-460b-99b1-a372b9d4cd6f"
      },
      "source": [
        "from torch import optim\n",
        "import time\n",
        "\n",
        "# 交差エントロピー誤差関数\n",
        "loss_fnc = nn.CrossEntropyLoss()\n",
        "\n",
        "# SGD\n",
        "optimizer = optim.SGD(net.parameters(), lr=0.01)\n",
        "\n",
        "# 損失のログ\n",
        "record_loss_train = []\n",
        "record_loss_test = []\n",
        "\n",
        "# 学習\n",
        "for i in range(10):  # 10エポック学習\n",
        "    net.train()  # 訓練モード\n",
        "    loss_train = 0\n",
        "    for j, (x, t) in enumerate(train_loader):  # ← 左にfor文のコードを追記\n",
        "        x, t = x.cuda(), t.cuda()  # GPU対応\n",
        "        y = net(x)\n",
        "        loss = loss_fnc(y, t)\n",
        "        loss_train += loss.item()\n",
        "        optimizer.zero_grad()\n",
        "        loss.backward()\n",
        "        optimizer.step()\n",
        "    loss_train /= j+1\n",
        "    record_loss_train.append(loss_train)\n",
        "\n",
        "    net.eval()  # 評価モード\n",
        "    loss_test = 0\n",
        "    for j, (x, t) in enumerate(test_loader):  # ← 左にfor文のコードを追記\n",
        "        x, t = x.cuda(), t.cuda()\n",
        "        y = net(x)\n",
        "        loss = loss_fnc(y, t)\n",
        "        loss_test += loss.item()\n",
        "    loss_test /= j+1\n",
        "    record_loss_test.append(loss_test)\n",
        "\n",
        "    if i%1 == 0:\n",
        "        print(\"Epoch:\", i, \"Loss_Train:\", loss_train, \"Loss_Test:\", loss_test)"
      ],
      "execution_count": 7,
      "outputs": [
        {
          "output_type": "stream",
          "name": "stdout",
          "text": [
            "Epoch: 0 Loss_Train: 0.2726719035014415 Loss_Test: 0.2565915921019225\n",
            "Epoch: 1 Loss_Train: 0.2626531938277582 Loss_Test: 0.24902471228019346\n",
            "Epoch: 2 Loss_Train: 0.25316439710382715 Loss_Test: 0.24034019715235203\n",
            "Epoch: 3 Loss_Train: 0.24428474744245696 Loss_Test: 0.23224492712960212\n",
            "Epoch: 4 Loss_Train: 0.23594658288048276 Loss_Test: 0.22446898943921434\n",
            "Epoch: 5 Loss_Train: 0.22819489572665838 Loss_Test: 0.219093291831639\n",
            "Epoch: 6 Loss_Train: 0.22068064529567893 Loss_Test: 0.2114450653684856\n",
            "Epoch: 7 Loss_Train: 0.2137007964477102 Loss_Test: 0.205507851005355\n",
            "Epoch: 8 Loss_Train: 0.20659554095219956 Loss_Test: 0.1999381989169913\n",
            "Epoch: 9 Loss_Train: 0.20032630544672134 Loss_Test: 0.1925963196031089\n"
          ]
        }
      ]
    }
  ]
}